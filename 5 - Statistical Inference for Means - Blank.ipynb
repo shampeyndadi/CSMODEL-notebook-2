{
 "cells": [
  {
   "cell_type": "markdown",
   "metadata": {},
   "source": [
    "# Statistical Inference for Means\n",
    "In this Notebook, we will work on confidence intervals and statistical inference for means. This particular Notebook is mostly adopted from the [Inferential Statistics](https://www.coursera.org/learn/inferential-statistics-intro/home/welcome) course of Duke University, converted from R to Python and tweaked to match the needs of our CSMODEL course.\n",
    "\n",
    "Our Notebooks in CSMODEL are designed to be guided learning activities. To use them, simply through the cells from top to bottom, following the directions along the way. If you find any unclear parts or mistakes in the Notebooks, email your instructor."
   ]
  },
  {
   "cell_type": "markdown",
   "metadata": {},
   "source": [
    "## Instructions\n",
    "* Read each cell and implement the TODOs sequentially. The markdown/text cells also contain instructions which you need to follow to get the whole notebook working.\n",
    "* Do not change the variable names unless the instructor allows you to.\n",
    "* Answer all the markdown/text cells with 'Question #' on them. Write your answer in the Canvas Quiz.\n",
    "* You are expected to search how to some functions work on the Internet or via the docs. \n",
    "* The notebooks will undergo a 'Restart and Run All' command, so make sure that your code is working properly.\n",
    "* You are expected to understand the dataset loading and processing separately from this class.\n",
    "* You may not reproduce this notebook or share them to anyone."
   ]
  },
  {
   "cell_type": "markdown",
   "metadata": {},
   "source": [
    "## Import Libraries"
   ]
  },
  {
   "cell_type": "markdown",
   "metadata": {},
   "source": [
    "For the statistical functions, we will be using `scipy`, specifically, the `stats` submodule. The [`scipy.stats`](https://docs.scipy.org/doc/scipy/reference/stats.html) module provides a number of probability distribution functions, summary and frequency statistics, correlation functions, statistical tests, and more."
   ]
  },
  {
   "cell_type": "code",
   "execution_count": null,
   "metadata": {},
   "outputs": [],
   "source": [
    "import numpy as np\n",
    "import pandas as pd\n",
    "import matplotlib.pyplot as plt\n",
    "from scipy.stats import norm\n",
    "from scipy.stats import ttest_ind"
   ]
  },
  {
   "cell_type": "markdown",
   "metadata": {},
   "source": [
    "## Real Estate Data"
   ]
  },
  {
   "cell_type": "markdown",
   "metadata": {},
   "source": [
    "Let's consider the real estate data from the city of Ames, Iowa. The details of every real estate transaction in Ames is recorded by the City Assessor's  office. Our particular focus will be all residential home sales in Ames between 2006 and 2010.  This collection represents our **population** of interest. We would like to learn about these home sales by taking smaller samples from the full population. Let's load the data."
   ]
  },
  {
   "cell_type": "code",
   "execution_count": null,
   "metadata": {},
   "outputs": [],
   "source": [
    "ames_df = pd.read_csv('ames.csv', index_col='Order')\n",
    "ames_df.head()"
   ]
  },
  {
   "cell_type": "markdown",
   "metadata": {},
   "source": [
    "Call the [`info()`](https://pandas.pydata.org/pandas-docs/stable/reference/api/pandas.DataFrame.info.html) function."
   ]
  },
  {
   "cell_type": "code",
   "execution_count": null,
   "metadata": {},
   "outputs": [],
   "source": [
    "ames_df.info()"
   ]
  },
  {
   "cell_type": "markdown",
   "metadata": {},
   "source": [
    "Our dataset contains 81 variables and 2930 instances."
   ]
  },
  {
   "cell_type": "markdown",
   "metadata": {},
   "source": [
    "### Get a Sample"
   ]
  },
  {
   "cell_type": "markdown",
   "metadata": {},
   "source": [
    "Here, we have access to the population data. But in most cases, we do not. Instead, we have to work with a **sample**. Let's try to take a sample from our population using the [`sample()`](https://pandas.pydata.org/pandas-docs/stable/reference/api/pandas.DataFrame.sample.html) function.\n",
    "\n",
    "**Note**: The random state is any number that allows us to make our notebooks reproducible. The random state, in very simple terms, dictates where to start \"searching\" and sampling at random."
   ]
  },
  {
   "cell_type": "code",
   "execution_count": null,
   "metadata": {},
   "outputs": [],
   "source": [
    "n = 60\n",
    "ames_sample_df = ames_df.sample(n, random_state=8)\n",
    "ames_sample_df.head()"
   ]
  },
  {
   "cell_type": "markdown",
   "metadata": {},
   "source": [
    "For now, we will only focus on the `Lot.Area` variable. Let us compute the summary statistics for this variable."
   ]
  },
  {
   "cell_type": "code",
   "execution_count": null,
   "metadata": {},
   "outputs": [],
   "source": [
    "agg = ames_sample_df.agg({'Lot.Area': ['mean', 'median', 'std']})\n",
    "\n",
    "sample_mean = agg.loc['mean'][0]\n",
    "sample_median = agg.loc['median'][0]\n",
    "sample_std = agg.loc['std'][0]\n",
    "\n",
    "print('Sample Mean: {:.2f}'.format(sample_mean))\n",
    "print('Sample Median: {:.2f}'.format(sample_median))\n",
    "print('Sample Standard Deviation: {:.2f}'.format(sample_std))"
   ]
  },
  {
   "cell_type": "markdown",
   "metadata": {},
   "source": [
    "**Question #1:** What is the mean of your sample? Limit to 2 decimal places."
   ]
  },
  {
   "cell_type": "markdown",
   "metadata": {},
   "source": [
    "Sample Mean: 9494.48\n"
   ]
  },
  {
   "cell_type": "markdown",
   "metadata": {},
   "source": [
    "### Confidence Interval"
   ]
  },
  {
   "cell_type": "markdown",
   "metadata": {},
   "source": [
    "Based on this sample, what can we infer about the population? Based only on this single sample, the best estimate of the average living area of houses sold in Ames would be the sample mean, usually denoted as $\\bar{x}$. That serves as a good point estimate but it would be useful to also communicate how uncertain we are of that estimate. This uncertainty can be quantified using a confidence interval.\n",
    "\n",
    "A confidence interval for a population mean is computed as:\n",
    "\n",
    "$$\\bar{x} \\pm ME $$\n",
    "\n",
    "where $ME$ is also known as the **margin of error**. The margin of error is computed as:\n",
    "\n",
    "$$ME = z^* \\times \\frac{s}{\\sqrt{n}}$$\n",
    "\n",
    "\n",
    "Where $z^*$, also known as the **critical value**."
   ]
  },
  {
   "cell_type": "markdown",
   "metadata": {},
   "source": [
    "Confidence level corresponds to the probability of getting a value within the confidence interval when sampling is repeated multiple times. On the other hand, the significance level or alpha ($\\alpha$) is the probability of rejecting the null hypothesis given that the null hypothesis is true. These two have an inverse relationship, where the significance level is equivalent to $(1 - CL)$, where $CL$ is the confidence level.\n",
    "\n",
    "To get the value of $z^*$, we can use the [`norm.ppf()`](https://docs.scipy.org/doc/scipy/reference/generated/scipy.stats.norm.html) function. A 95% confidence level refers to the middle 95% of the distribution. Thus, your significance level is 0.05. Suppose that we are performing a one-tailed test, the critical value for this is computed as:"
   ]
  },
  {
   "cell_type": "code",
   "execution_count": null,
   "metadata": {},
   "outputs": [],
   "source": [
    "alpha = 0.05\n",
    "z_star_95_one_tailed = norm.ppf(1 - alpha)\n",
    "print('{:.2f}'.format(z_star_95_one_tailed))"
   ]
  },
  {
   "cell_type": "markdown",
   "metadata": {},
   "source": [
    "When performing a two-tailed test, the value of $\\alpha$ should be divided into two. You may read more about this [here](https://thedatascientist.com/comparing-significance-level-confidence-level-and-confidence-interval/). Thus, we compute $z^*$ as:"
   ]
  },
  {
   "cell_type": "code",
   "execution_count": null,
   "metadata": {
    "scrolled": true
   },
   "outputs": [],
   "source": [
    "alpha = 0.05\n",
    "z_star_95_two_tailed = norm.ppf(1 - alpha / 2)\n",
    "print('{:.2f}'.format(z_star_95_two_tailed))"
   ]
  },
  {
   "cell_type": "markdown",
   "metadata": {},
   "source": [
    "Let's assume that we are performing a two-tailed test. Compute and display the margin of error given a 95% confidence level. Use the variables from previous cells instead of using the actual values."
   ]
  },
  {
   "cell_type": "code",
   "execution_count": null,
   "metadata": {
    "scrolled": true
   },
   "outputs": [],
   "source": [
    "# Write your code here\n",
    "margin_of_error = z_star_95_two_tailed * (sample_std / np.sqrt(n))\n",
    "print('{:.2f}'.format(margin_of_error))"
   ]
  },
  {
   "cell_type": "markdown",
   "metadata": {},
   "source": [
    "**Question #2:** Given a 95% confidence level, what is the margin of error? Limit to 2 decimal places."
   ]
  },
  {
   "cell_type": "markdown",
   "metadata": {},
   "source": [
    "Margin of error: 1082.47"
   ]
  },
  {
   "cell_type": "markdown",
   "metadata": {},
   "source": [
    "Again, the 95% confidence interval is the sample mean $\\pm$ the margin of error. Compute and display the minimum and maximum values in the 95% confidence interval. Use the variables from previous cells instead of using the actual values."
   ]
  },
  {
   "cell_type": "code",
   "execution_count": null,
   "metadata": {},
   "outputs": [],
   "source": [
    "# Write your code here\n",
    "minimum_value = sample_mean - margin_of_error\n",
    "maximum_value = sample_mean + margin_of_error\n",
    "print('Minimum Value: {:.2f}'.format(minimum_value))\n",
    "print('Maximum Value: {:.2f}'.format(maximum_value))"
   ]
  },
  {
   "cell_type": "markdown",
   "metadata": {},
   "source": [
    "**Question #3:** What is the minimum value of the 95% confidence interval? Limit to 2 decimal places."
   ]
  },
  {
   "cell_type": "markdown",
   "metadata": {},
   "source": [
    "Minimum Value: 8412.01"
   ]
  },
  {
   "cell_type": "markdown",
   "metadata": {},
   "source": [
    "**Question #4:** What is the maximum value of the 95% confidence interval? Limit to 2 decimal places."
   ]
  },
  {
   "cell_type": "markdown",
   "metadata": {},
   "source": [
    "Maximum Value: 10576.95"
   ]
  },
  {
   "cell_type": "markdown",
   "metadata": {},
   "source": [
    "To recap: even though we don't know what the full population looks like, we believe that the true average size of houses in Ames lies between the lower and upper values 95% of the time. There are a few conditions that must be met for this interval to be valid. These conditions are:\n",
    "\n",
    "- Samples must be independent\n",
    "- Sample size must be at least 30 (or population is normally distributed)"
   ]
  },
  {
   "cell_type": "markdown",
   "metadata": {},
   "source": [
    "### Verify if Our Confidence Interval Covers the True Mean"
   ]
  },
  {
   "cell_type": "markdown",
   "metadata": {},
   "source": [
    "In this case, we have the rare luxury of knowing the true population mean since we have data on the entire population. Let's calculate this value so that we can determine if our confidence intervals actually capture it.\n",
    "\n",
    "Let us get the mean from the population (not the sample)."
   ]
  },
  {
   "cell_type": "markdown",
   "metadata": {},
   "source": [
    "Compute and display the true population mean for the variable."
   ]
  },
  {
   "cell_type": "code",
   "execution_count": null,
   "metadata": {
    "scrolled": true
   },
   "outputs": [],
   "source": [
    "# Write your code here\n",
    "population_mean = ames_df['Lot.Area'].mean()\n",
    "print('{:.2f}'.format(population_mean))"
   ]
  },
  {
   "cell_type": "markdown",
   "metadata": {},
   "source": [
    "**Question #5:** What is the true population mean of the variable? Limit to 2 decimal places."
   ]
  },
  {
   "cell_type": "markdown",
   "metadata": {},
   "source": [
    "Poulation Mean: 10147.92"
   ]
  },
  {
   "cell_type": "markdown",
   "metadata": {},
   "source": [
    "**Note:** The true population mean should be within your computed confidence interval range."
   ]
  },
  {
   "cell_type": "markdown",
   "metadata": {},
   "source": [
    "### Increase the Confidence Level to 99%"
   ]
  },
  {
   "cell_type": "markdown",
   "metadata": {},
   "source": [
    "Let's get another sample from the population, where `n` is 60."
   ]
  },
  {
   "cell_type": "code",
   "execution_count": null,
   "metadata": {},
   "outputs": [],
   "source": [
    "n = 60\n",
    "ames_sample_df = ames_df.sample(n, random_state=9)\n",
    "ames_sample_df.head()"
   ]
  },
  {
   "cell_type": "markdown",
   "metadata": {},
   "source": [
    "Let's focus on the `Lot.Area` variable again."
   ]
  },
  {
   "cell_type": "markdown",
   "metadata": {},
   "source": [
    "Compute and display the summary statistics - mean, median, and standard deviation for this variable."
   ]
  },
  {
   "cell_type": "code",
   "execution_count": null,
   "metadata": {},
   "outputs": [],
   "source": [
    "# Write your code here\n",
    "agg = ames_sample_df.agg({'Lot.Area': ['mean', 'median', 'std']})\n",
    "\n",
    "sample_mean = agg.loc['mean'][0]\n",
    "sample_median = agg.loc['median'][0]\n",
    "sample_std = agg.loc['std'][0]\n",
    "\n",
    "print('Sample Mean: {:.2f}'.format(sample_mean))\n",
    "print('Sample Median: {:.2f}'.format(sample_median))\n",
    "print('Sample Standard Deviation: {:.2f}'.format(sample_std))"
   ]
  },
  {
   "cell_type": "markdown",
   "metadata": {},
   "source": [
    "**Question #6:** What is the mean of your new sample? Limit to 2 decimal places."
   ]
  },
  {
   "cell_type": "markdown",
   "metadata": {},
   "source": [
    "Sample Mean: 9137.33\n"
   ]
  },
  {
   "cell_type": "markdown",
   "metadata": {},
   "source": [
    "Now, let's increase the confidence level from 95% to 99% and perform a two-tailed test. Get the value of $z^*$ or the z-score that corresponds to the middle 99% of the data."
   ]
  },
  {
   "cell_type": "code",
   "execution_count": null,
   "metadata": {},
   "outputs": [],
   "source": [
    "# Write your code here\n",
    "alpha = 0.01\n",
    "z_star_99_two_tailed = norm.ppf(1 - alpha / 2)\n",
    "print('{:.2f}'.format(z_star_99_two_tailed))\n"
   ]
  },
  {
   "cell_type": "markdown",
   "metadata": {},
   "source": [
    "Compute and display the margin of error. Use the variables from previous cells instead of using the actual values."
   ]
  },
  {
   "cell_type": "code",
   "execution_count": null,
   "metadata": {},
   "outputs": [],
   "source": [
    "# Write your code here\n",
    "margin_of_error = z_star_99_two_tailed * (sample_std / np.sqrt(n))\n",
    "print('{:.2f}'.format(margin_of_error))"
   ]
  },
  {
   "cell_type": "markdown",
   "metadata": {},
   "source": [
    "**Question #7:** Given a 99% confidence level, what is the margin of error? Limit to 2 decimal places."
   ]
  },
  {
   "cell_type": "markdown",
   "metadata": {},
   "source": [
    "Margin of error: 2097.74"
   ]
  },
  {
   "cell_type": "markdown",
   "metadata": {},
   "source": [
    "Compute and display the minimum and maximum values in the 99% confidence interval. Use the variables from previous cells instead of using the actual values."
   ]
  },
  {
   "cell_type": "code",
   "execution_count": null,
   "metadata": {},
   "outputs": [],
   "source": [
    "# Write your code here\n",
    "minimum_value = sample_mean - margin_of_error\n",
    "maximum_value = sample_mean + margin_of_error\n",
    "print('Minimum Value: {:.2f}'.format(minimum_value))\n",
    "print('Maximum Value: {:.2f}'.format(maximum_value))\n"
   ]
  },
  {
   "cell_type": "markdown",
   "metadata": {},
   "source": [
    "**Question #8:** What is the minimum value of the 99% confidence interval? Limit to 2 decimal places."
   ]
  },
  {
   "cell_type": "markdown",
   "metadata": {},
   "source": [
    "Minimum Value: 7039.60"
   ]
  },
  {
   "cell_type": "markdown",
   "metadata": {},
   "source": [
    "**Question #9:** What is the maximum value of the 99% confidence interval? Limit to 2 decimal places."
   ]
  },
  {
   "cell_type": "markdown",
   "metadata": {},
   "source": [
    "Maximum Value: 11235.07"
   ]
  },
  {
   "cell_type": "markdown",
   "metadata": {},
   "source": [
    "**Note:** The true population mean should be within your computed confidence interval range.\n",
    "\n",
    "From here, we have seen that even though we do not have access to the population, we can use a sample to estimate the the true population mean with the use of confidence intervals."
   ]
  },
  {
   "cell_type": "markdown",
   "metadata": {},
   "source": [
    "## Birth Records Data"
   ]
  },
  {
   "cell_type": "markdown",
   "metadata": {},
   "source": [
    "In 2004, the state of North Carolina released a large data set containing information on births recorded in this state. This data set is useful to researchers studying the relation between habits and practices of expectant mothers and the birth of their children. We will work with a random sample of observations from this data set.\n",
    "\n",
    "Load the `nc` data set into our workspace."
   ]
  },
  {
   "cell_type": "code",
   "execution_count": null,
   "metadata": {
    "scrolled": true
   },
   "outputs": [],
   "source": [
    "nc_df = pd.read_csv('nc.csv')\n",
    "nc_df.head()"
   ]
  },
  {
   "cell_type": "markdown",
   "metadata": {},
   "source": [
    "We have observations on 13 different variables, some categorical and some numerical. The meaning of each variable is as follows.\n",
    "\n",
    "- **`fage`**: father’s age in years.\n",
    "- **`mage`**:\tmother’s age in years.\n",
    "- **`mature`**: maturity status of mother.\n",
    "- **`weeks`**: length of pregnancy in weeks.\n",
    "- **`premie`**: whether the birth was classified as premature (premie) or full-term.\n",
    "- **`visits`**: number of hospital visits during pregnancy.\n",
    "- **`marital`**: whether mother is married or not married at birth.\n",
    "- **`gained`**: weight gained by mother during pregnancy in pounds.\n",
    "- **`weight`**: weight of the baby at birth in pounds.\n",
    "- **`lowbirthweight`**: whether baby was classified as low birthweight (low) or not (not low).\n",
    "- **`gender`**: gender of the baby, female or male.\n",
    "- **`habit`**: status of the mother as a nonsmoker or a smoker.\n",
    "- **`whitemom`**:\twhether mom is white or not white."
   ]
  },
  {
   "cell_type": "markdown",
   "metadata": {},
   "source": [
    "We will consider the possible relationship between a mother's smoking habit (`habit`) and the weight (`weight`) of her baby. Plotting the data is a useful first step because it helps us quickly visualize trends, identify strong associations, and develop research questions.\n",
    "\n",
    "Let's use a boxplot to compare the two groups:"
   ]
  },
  {
   "cell_type": "code",
   "execution_count": null,
   "metadata": {},
   "outputs": [],
   "source": [
    "nc_df.groupby('habit').boxplot(column='weight')\n",
    "plt.show()"
   ]
  },
  {
   "cell_type": "markdown",
   "metadata": {},
   "source": [
    "Now let's look at the summary statistics across the two groups."
   ]
  },
  {
   "cell_type": "code",
   "execution_count": null,
   "metadata": {
    "scrolled": true
   },
   "outputs": [],
   "source": [
    "summary_stat = nc_df.groupby('habit').agg({'weight': ['mean', 'median', 'std', len]})\n",
    "summary_stat"
   ]
  },
  {
   "cell_type": "markdown",
   "metadata": {},
   "source": [
    "It appears that babies of smokers tend to have less weight, but is this difference statistically significant? In order to answer this question, we will conduct a hypothesis test."
   ]
  },
  {
   "cell_type": "markdown",
   "metadata": {},
   "source": [
    "### Hypothesis Test"
   ]
  },
  {
   "cell_type": "markdown",
   "metadata": {},
   "source": [
    "Based on the our sample, the difference in the means of the baby weights for smokers and non-smokers is:"
   ]
  },
  {
   "cell_type": "code",
   "execution_count": null,
   "metadata": {},
   "outputs": [],
   "source": [
    "non_smoker_mean = summary_stat.loc['nonsmoker'].loc['weight'].loc['mean']\n",
    "smoker_mean = summary_stat.loc['smoker'].loc['weight'].loc['mean']\n",
    "\n",
    "diff = non_smoker_mean - smoker_mean\n",
    "print('{:.2f}'.format(diff))"
   ]
  },
  {
   "cell_type": "markdown",
   "metadata": {},
   "source": [
    "We set up our hypotheses as follows:\n",
    "\n",
    "$H_0$ (null hypothesis): The true difference is 0.\n",
    "\n",
    "$H_A$ (alternative hypothesis): The true difference is not 0."
   ]
  },
  {
   "cell_type": "markdown",
   "metadata": {},
   "source": [
    "Now, we can use a $t$-test to compare the two means from the unpaired groups. We'll use the [`ttest_ind()`](https://docs.scipy.org/doc/scipy/reference/generated/scipy.stats.ttest_ind.html) function. This function assumes that the null hypothesis is that the difference between the two means is 0, while the alternative hypothesis is that the diference between them is not 0. We set the `equal_var` parameter to `False` because we don't want to assume that the population has equal variances."
   ]
  },
  {
   "cell_type": "code",
   "execution_count": null,
   "metadata": {},
   "outputs": [],
   "source": [
    "ttest_ind(nc_df[nc_df['habit'] == 'smoker']['weight'],\n",
    "          nc_df[nc_df['habit'] == 'nonsmoker']['weight'],\n",
    "          equal_var = False)"
   ]
  },
  {
   "cell_type": "markdown",
   "metadata": {},
   "source": [
    "Note that you the function above is to perform a $t$-test for **independent means** (unpaired). We would need to use other functions if we need to perform tests for other groups. We leave this for you to find out."
   ]
  },
  {
   "cell_type": "markdown",
   "metadata": {},
   "source": [
    "**Question #10:** What can you conclude based on the $p$-value under a 5% significance level? Do we accept or reject the null hypothesis?"
   ]
  },
  {
   "cell_type": "markdown",
   "metadata": {},
   "source": [
    "**Question #11:** Can we say that smoking among mothers causes their babies to be lighter?"
   ]
  },
  {
   "cell_type": "markdown",
   "metadata": {},
   "source": [
    "## 90% Confidence Interval"
   ]
  },
  {
   "cell_type": "markdown",
   "metadata": {},
   "source": [
    "Compute the **90%** confidence interval for the average baby weights using the `nc` dataset."
   ]
  },
  {
   "cell_type": "markdown",
   "metadata": {},
   "source": [
    "Compute and display the sample mean. No need to sample -- use the whole dataset."
   ]
  },
  {
   "cell_type": "code",
   "execution_count": null,
   "metadata": {},
   "outputs": [],
   "source": [
    "# Write your code here\n",
    "agg = nc_df.agg({'weight': ['mean', 'median', 'std']})\n",
    "\n",
    "sample_mean = agg.loc['mean'][0]\n",
    "sample_median = agg.loc['median'][0]\n",
    "sample_std = agg.loc['std'][0]\n",
    "\n",
    "print('Sample Mean: {:.2f}'.format(sample_mean))\n",
    "print('Sample Median: {:.2f}'.format(sample_median))\n",
    "print('Sample Standard Deviation: {:.2f}'.format(sample_std))"
   ]
  },
  {
   "cell_type": "markdown",
   "metadata": {},
   "source": [
    "Compute and display the minimum and maximum values in the 90% confidence interval. Use the variables from previous cells instead of using the actual values."
   ]
  },
  {
   "cell_type": "code",
   "execution_count": null,
   "metadata": {},
   "outputs": [],
   "source": [
    "# Write your code here\n",
    "alpha = 0.10\n",
    "z_star_90_two_tailed = norm.ppf(1 - alpha / 2)\n",
    "print('Z: {:.2f}'.format(z_star_90_two_tailed))\n",
    "\n",
    "margin_of_error = z_star_90_two_tailed * (sample_std / np.sqrt(n))\n",
    "print('Margin of error: {:.2f}'.format(margin_of_error))\n",
    "\n",
    "minimum_value = sample_mean - margin_of_error\n",
    "maximum_value = sample_mean + margin_of_error\n",
    "print('Minimum Value: {:.2f}'.format(minimum_value))\n",
    "print('Maximum Value: {:.2f}'.format(maximum_value))\n"
   ]
  },
  {
   "cell_type": "markdown",
   "metadata": {},
   "source": [
    "**Question #12:** Is the sample mean within the confidence interval? Yes or No?"
   ]
  },
  {
   "cell_type": "markdown",
   "metadata": {},
   "source": [
    "Yes"
   ]
  }
 ],
 "metadata": {
  "kernelspec": {
   "display_name": "Python 3 (ipykernel)",
   "language": "python",
   "name": "python3"
  },
  "language_info": {
   "codemirror_mode": {
    "name": "ipython",
    "version": 3
   },
   "file_extension": ".py",
   "mimetype": "text/x-python",
   "name": "python",
   "nbconvert_exporter": "python",
   "pygments_lexer": "ipython3",
   "version": "3.9.13"
  }
 },
 "nbformat": 4,
 "nbformat_minor": 4
}
